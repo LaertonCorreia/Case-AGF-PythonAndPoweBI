{
 "cells": [
  {
   "cell_type": "markdown",
   "id": "3c6e9717",
   "metadata": {},
   "source": [
    "#### Nome: Laerton Amorim Correia"
   ]
  },
  {
   "cell_type": "markdown",
   "id": "81fc3bdb",
   "metadata": {},
   "source": [
    "#### Dicionário de dados\n",
    "\n",
    "PassengerId: Identificação única do passageiro\n",
    "\n",
    "Survived: Identificação de sobrevivência (1 sobreviveu/ 0 Não Sobreviveu)\n",
    "\n",
    "Pclass: Classe em que a pessoa esta viajando sendo 1 a melhor classe e 3 a pior classe\n",
    "\n",
    "Name: Nome do Passageiro\n",
    "\n",
    "Sex: Gênero do Passageiro (Male = Masculino / Female = Feminino)\n",
    "\n",
    "Age: Idade do passageiro no dia do acidente\n",
    "\n",
    "SibSp: Número de irmãos ou cônjuges a bordo\n",
    "\n",
    "Parch: Número de pais ou filhos a bordo\n",
    "\n",
    "Ticket: Número do ticket\n",
    "\n",
    "Fare: Valor pago na passagem\n",
    "\n",
    "Cabin: Código da Cabine\n",
    "\n",
    "Embarked: Local onde o passageiro embarcou no navio"
   ]
  },
  {
   "cell_type": "markdown",
   "id": "e871fc28",
   "metadata": {},
   "source": [
    "### Análise inicial dos dados"
   ]
  },
  {
   "cell_type": "code",
   "execution_count": 1,
   "id": "fc40e521",
   "metadata": {},
   "outputs": [],
   "source": [
    "#Importando bobliotecas\n",
    "import pandas as pd"
   ]
  },
  {
   "cell_type": "code",
   "execution_count": 2,
   "id": "652eed35",
   "metadata": {},
   "outputs": [],
   "source": [
    "# #Para pc linux\n",
    "# %%bash\n",
    "# echo \"Verificando o enconder do arquivo\"\n",
    "# file -i Titanic.csv"
   ]
  },
  {
   "cell_type": "code",
   "execution_count": 3,
   "id": "f97f2480",
   "metadata": {},
   "outputs": [],
   "source": [
    "#Carregando a fonte de dados\n",
    "dfbase=pd.read_csv(\"../datasets/base/Titanic.csv\", encoding=\"us-ascii\")"
   ]
  },
  {
   "cell_type": "code",
   "execution_count": 4,
   "id": "b2fda3be",
   "metadata": {},
   "outputs": [
    {
     "data": {
      "text/html": [
       "<div>\n",
       "<style scoped>\n",
       "    .dataframe tbody tr th:only-of-type {\n",
       "        vertical-align: middle;\n",
       "    }\n",
       "\n",
       "    .dataframe tbody tr th {\n",
       "        vertical-align: top;\n",
       "    }\n",
       "\n",
       "    .dataframe thead th {\n",
       "        text-align: right;\n",
       "    }\n",
       "</style>\n",
       "<table border=\"1\" class=\"dataframe\">\n",
       "  <thead>\n",
       "    <tr style=\"text-align: right;\">\n",
       "      <th></th>\n",
       "      <th>PassengerId</th>\n",
       "      <th>Survived</th>\n",
       "      <th>Pclass</th>\n",
       "      <th>Name</th>\n",
       "      <th>Sex</th>\n",
       "      <th>Age</th>\n",
       "      <th>SibSp</th>\n",
       "      <th>Parch</th>\n",
       "      <th>Ticket</th>\n",
       "      <th>Fare</th>\n",
       "      <th>Cabin</th>\n",
       "      <th>Embarked</th>\n",
       "    </tr>\n",
       "  </thead>\n",
       "  <tbody>\n",
       "    <tr>\n",
       "      <th>0</th>\n",
       "      <td>1</td>\n",
       "      <td>0</td>\n",
       "      <td>3</td>\n",
       "      <td>Braund, Mr. Owen Harris</td>\n",
       "      <td>male</td>\n",
       "      <td>22.0</td>\n",
       "      <td>1</td>\n",
       "      <td>0</td>\n",
       "      <td>A/5 21171</td>\n",
       "      <td>7.2500</td>\n",
       "      <td>NaN</td>\n",
       "      <td>S</td>\n",
       "    </tr>\n",
       "    <tr>\n",
       "      <th>1</th>\n",
       "      <td>2</td>\n",
       "      <td>1</td>\n",
       "      <td>1</td>\n",
       "      <td>Cumings, Mrs. John Bradley (Florence Briggs Th...</td>\n",
       "      <td>female</td>\n",
       "      <td>38.0</td>\n",
       "      <td>1</td>\n",
       "      <td>0</td>\n",
       "      <td>PC 17599</td>\n",
       "      <td>71.2833</td>\n",
       "      <td>C85</td>\n",
       "      <td>C</td>\n",
       "    </tr>\n",
       "    <tr>\n",
       "      <th>2</th>\n",
       "      <td>3</td>\n",
       "      <td>1</td>\n",
       "      <td>3</td>\n",
       "      <td>Heikkinen, Miss. Laina</td>\n",
       "      <td>female</td>\n",
       "      <td>26.0</td>\n",
       "      <td>0</td>\n",
       "      <td>0</td>\n",
       "      <td>STON/O2. 3101282</td>\n",
       "      <td>7.9250</td>\n",
       "      <td>NaN</td>\n",
       "      <td>S</td>\n",
       "    </tr>\n",
       "    <tr>\n",
       "      <th>3</th>\n",
       "      <td>4</td>\n",
       "      <td>1</td>\n",
       "      <td>1</td>\n",
       "      <td>Futrelle, Mrs. Jacques Heath (Lily May Peel)</td>\n",
       "      <td>female</td>\n",
       "      <td>35.0</td>\n",
       "      <td>1</td>\n",
       "      <td>0</td>\n",
       "      <td>113803</td>\n",
       "      <td>53.1000</td>\n",
       "      <td>C123</td>\n",
       "      <td>S</td>\n",
       "    </tr>\n",
       "    <tr>\n",
       "      <th>4</th>\n",
       "      <td>5</td>\n",
       "      <td>0</td>\n",
       "      <td>3</td>\n",
       "      <td>Allen, Mr. William Henry</td>\n",
       "      <td>male</td>\n",
       "      <td>35.0</td>\n",
       "      <td>0</td>\n",
       "      <td>0</td>\n",
       "      <td>373450</td>\n",
       "      <td>8.0500</td>\n",
       "      <td>NaN</td>\n",
       "      <td>S</td>\n",
       "    </tr>\n",
       "  </tbody>\n",
       "</table>\n",
       "</div>"
      ],
      "text/plain": [
       "   PassengerId  Survived  Pclass  \\\n",
       "0            1         0       3   \n",
       "1            2         1       1   \n",
       "2            3         1       3   \n",
       "3            4         1       1   \n",
       "4            5         0       3   \n",
       "\n",
       "                                                Name     Sex   Age  SibSp  \\\n",
       "0                            Braund, Mr. Owen Harris    male  22.0      1   \n",
       "1  Cumings, Mrs. John Bradley (Florence Briggs Th...  female  38.0      1   \n",
       "2                             Heikkinen, Miss. Laina  female  26.0      0   \n",
       "3       Futrelle, Mrs. Jacques Heath (Lily May Peel)  female  35.0      1   \n",
       "4                           Allen, Mr. William Henry    male  35.0      0   \n",
       "\n",
       "   Parch            Ticket     Fare Cabin Embarked  \n",
       "0      0         A/5 21171   7.2500   NaN        S  \n",
       "1      0          PC 17599  71.2833   C85        C  \n",
       "2      0  STON/O2. 3101282   7.9250   NaN        S  \n",
       "3      0            113803  53.1000  C123        S  \n",
       "4      0            373450   8.0500   NaN        S  "
      ]
     },
     "execution_count": 4,
     "metadata": {},
     "output_type": "execute_result"
    }
   ],
   "source": [
    "dfbase.head()"
   ]
  },
  {
   "cell_type": "code",
   "execution_count": 5,
   "id": "3b4cad40",
   "metadata": {},
   "outputs": [
    {
     "data": {
      "text/plain": [
       "(891, 12)"
      ]
     },
     "execution_count": 5,
     "metadata": {},
     "output_type": "execute_result"
    }
   ],
   "source": [
    "dfbase.shape"
   ]
  },
  {
   "cell_type": "markdown",
   "id": "35826fbe",
   "metadata": {},
   "source": [
    "### Analisando dados Faltantes"
   ]
  },
  {
   "cell_type": "code",
   "execution_count": 6,
   "id": "066fbdb5",
   "metadata": {
    "scrolled": false
   },
   "outputs": [
    {
     "data": {
      "text/html": [
       "<div>\n",
       "<style scoped>\n",
       "    .dataframe tbody tr th:only-of-type {\n",
       "        vertical-align: middle;\n",
       "    }\n",
       "\n",
       "    .dataframe tbody tr th {\n",
       "        vertical-align: top;\n",
       "    }\n",
       "\n",
       "    .dataframe thead th {\n",
       "        text-align: right;\n",
       "    }\n",
       "</style>\n",
       "<table border=\"1\" class=\"dataframe\">\n",
       "  <thead>\n",
       "    <tr style=\"text-align: right;\">\n",
       "      <th></th>\n",
       "      <th>QTD</th>\n",
       "      <th>PERCENT%</th>\n",
       "    </tr>\n",
       "  </thead>\n",
       "  <tbody>\n",
       "    <tr>\n",
       "      <th>PassengerId</th>\n",
       "      <td>0</td>\n",
       "      <td>0.00</td>\n",
       "    </tr>\n",
       "    <tr>\n",
       "      <th>Survived</th>\n",
       "      <td>0</td>\n",
       "      <td>0.00</td>\n",
       "    </tr>\n",
       "    <tr>\n",
       "      <th>Pclass</th>\n",
       "      <td>0</td>\n",
       "      <td>0.00</td>\n",
       "    </tr>\n",
       "    <tr>\n",
       "      <th>Name</th>\n",
       "      <td>0</td>\n",
       "      <td>0.00</td>\n",
       "    </tr>\n",
       "    <tr>\n",
       "      <th>Sex</th>\n",
       "      <td>0</td>\n",
       "      <td>0.00</td>\n",
       "    </tr>\n",
       "    <tr>\n",
       "      <th>Age</th>\n",
       "      <td>177</td>\n",
       "      <td>19.87</td>\n",
       "    </tr>\n",
       "    <tr>\n",
       "      <th>SibSp</th>\n",
       "      <td>0</td>\n",
       "      <td>0.00</td>\n",
       "    </tr>\n",
       "    <tr>\n",
       "      <th>Parch</th>\n",
       "      <td>0</td>\n",
       "      <td>0.00</td>\n",
       "    </tr>\n",
       "    <tr>\n",
       "      <th>Ticket</th>\n",
       "      <td>0</td>\n",
       "      <td>0.00</td>\n",
       "    </tr>\n",
       "    <tr>\n",
       "      <th>Fare</th>\n",
       "      <td>0</td>\n",
       "      <td>0.00</td>\n",
       "    </tr>\n",
       "    <tr>\n",
       "      <th>Cabin</th>\n",
       "      <td>687</td>\n",
       "      <td>77.10</td>\n",
       "    </tr>\n",
       "    <tr>\n",
       "      <th>Embarked</th>\n",
       "      <td>2</td>\n",
       "      <td>0.22</td>\n",
       "    </tr>\n",
       "  </tbody>\n",
       "</table>\n",
       "</div>"
      ],
      "text/plain": [
       "             QTD  PERCENT%\n",
       "PassengerId    0      0.00\n",
       "Survived       0      0.00\n",
       "Pclass         0      0.00\n",
       "Name           0      0.00\n",
       "Sex            0      0.00\n",
       "Age          177     19.87\n",
       "SibSp          0      0.00\n",
       "Parch          0      0.00\n",
       "Ticket         0      0.00\n",
       "Fare           0      0.00\n",
       "Cabin        687     77.10\n",
       "Embarked       2      0.22"
      ]
     },
     "execution_count": 6,
     "metadata": {},
     "output_type": "execute_result"
    }
   ],
   "source": [
    "#dfbase.isnull().sum()\n",
    "pd.concat([dfbase.isna().sum(),\n",
    "           round(dfbase.isna().sum()*100/len(dfbase),2)],\n",
    "          axis=1,keys=[\"QTD\", \"PERCENT%\"])\n",
    "#As variáveis Age, Cabin e Embarket apresentam sucessivamente 20%, 77% e 0.2 de dados faltantes.\""
   ]
  },
  {
   "cell_type": "code",
   "execution_count": 7,
   "id": "c43e9528",
   "metadata": {},
   "outputs": [
    {
     "data": {
      "text/plain": [
       "PassengerId      int64\n",
       "Survived         int64\n",
       "Pclass           int64\n",
       "Name            object\n",
       "Sex             object\n",
       "Age            float64\n",
       "SibSp            int64\n",
       "Parch            int64\n",
       "Ticket          object\n",
       "Fare           float64\n",
       "Cabin           object\n",
       "Embarked        object\n",
       "dtype: object"
      ]
     },
     "execution_count": 7,
     "metadata": {},
     "output_type": "execute_result"
    }
   ],
   "source": [
    "dfbase.dtypes"
   ]
  },
  {
   "cell_type": "code",
   "execution_count": 8,
   "id": "561f31fe",
   "metadata": {},
   "outputs": [
    {
     "name": "stdout",
     "output_type": "stream",
     "text": [
      "count     889\n",
      "unique      3\n",
      "top         S\n",
      "freq      644\n",
      "Name: Embarked, dtype: object\n"
     ]
    },
    {
     "data": {
      "text/plain": [
       "0.7227833894500562"
      ]
     },
     "execution_count": 8,
     "metadata": {},
     "output_type": "execute_result"
    }
   ],
   "source": [
    "print(dfbase.Embarked.describe())\n",
    "dfbase.Embarked.describe().freq/len(dfbase)"
   ]
  },
  {
   "cell_type": "code",
   "execution_count": 9,
   "id": "47e56faf",
   "metadata": {},
   "outputs": [],
   "source": [
    "#Para a variável Age a estratégia adotada será inserir o valor 999999 para destacar os faltantes.\n",
    "dfbase.Age.fillna(999.0, inplace=True)\n",
    "\n",
    "#Para a variável Cabin a estratégia adotada será inserir a denominação missing para destacar os faltantes.\n",
    "dfbase.Cabin.fillna(\"missing\", inplace=True)\n",
    "\n",
    "#Considerando que 72% dos passageiros embarcaram no porto S e que a quantidade de faltante é 0.2%.\n",
    "#serão considerados os valores faltantes como passageiros que embarcaram no porto S\n",
    "dfbase.Embarked.fillna(\"S\", inplace=True)"
   ]
  },
  {
   "cell_type": "code",
   "execution_count": 10,
   "id": "d71c2185",
   "metadata": {},
   "outputs": [
    {
     "data": {
      "text/plain": [
       "array(['S', 'C', 'Q'], dtype=object)"
      ]
     },
     "execution_count": 10,
     "metadata": {},
     "output_type": "execute_result"
    }
   ],
   "source": [
    "dfbase.Embarked.unique()"
   ]
  },
  {
   "cell_type": "code",
   "execution_count": 11,
   "id": "db62fb9d",
   "metadata": {},
   "outputs": [
    {
     "data": {
      "text/plain": [
       "0"
      ]
     },
     "execution_count": 11,
     "metadata": {},
     "output_type": "execute_result"
    }
   ],
   "source": [
    "#Verificando se existem linhas duplicadas na base de dados\n",
    "dfbase.duplicated().sum()"
   ]
  },
  {
   "cell_type": "markdown",
   "id": "78404691",
   "metadata": {},
   "source": [
    "### Análise exploratória dos dados"
   ]
  },
  {
   "cell_type": "code",
   "execution_count": 12,
   "id": "8011bf27",
   "metadata": {},
   "outputs": [],
   "source": [
    "#Conhecendo o tipo das variáveis"
   ]
  },
  {
   "cell_type": "code",
   "execution_count": 13,
   "id": "146c25fc",
   "metadata": {},
   "outputs": [
    {
     "data": {
      "text/plain": [
       "PassengerId      int64\n",
       "Survived         int64\n",
       "Pclass           int64\n",
       "Name            object\n",
       "Sex             object\n",
       "Age            float64\n",
       "SibSp            int64\n",
       "Parch            int64\n",
       "Ticket          object\n",
       "Fare           float64\n",
       "Cabin           object\n",
       "Embarked        object\n",
       "dtype: object"
      ]
     },
     "execution_count": 13,
     "metadata": {},
     "output_type": "execute_result"
    }
   ],
   "source": [
    "dfbase.dtypes"
   ]
  },
  {
   "cell_type": "code",
   "execution_count": 14,
   "id": "ca12907b",
   "metadata": {},
   "outputs": [
    {
     "data": {
      "text/plain": [
       "array([0, 1], dtype=int64)"
      ]
     },
     "execution_count": 14,
     "metadata": {},
     "output_type": "execute_result"
    }
   ],
   "source": [
    "dfbase.Survived.unique()"
   ]
  },
  {
   "cell_type": "code",
   "execution_count": 15,
   "id": "a412d431",
   "metadata": {},
   "outputs": [],
   "source": [
    "#Adequação de tipo para algumas variáveis\n",
    "\n",
    "#A variáveis categóricas\n",
    "dfbase.Survived=dfbase.Survived.astype('object')\n",
    "dfbase.Pclass=dfbase.Pclass.astype('object')\n"
   ]
  },
  {
   "cell_type": "code",
   "execution_count": 16,
   "id": "ecd8d9ef",
   "metadata": {},
   "outputs": [
    {
     "name": "stdout",
     "output_type": "stream",
     "text": [
      "Chave: ['PassengerId']\n",
      "Numéricas: ['Age', 'SibSp', 'Parch', 'Fare']\n",
      "Categóricas: ['Survived', 'Pclass', 'Name', 'Sex', 'Ticket', 'Cabin', 'Embarked']\n"
     ]
    }
   ],
   "source": [
    "#Lista de variáveis categóricas\n",
    "cat_vars = dfbase.select_dtypes(include='object').columns.to_list()\n",
    "key_vars=[\"PassengerId\"]\n",
    "#Lista de variáveis numéricas\n",
    "num_vars = [col for col in dfbase.columns if col not in cat_vars + key_vars]\n",
    "print(\"Chave:\",key_vars)\n",
    "print(\"Numéricas:\",num_vars)\n",
    "print(\"Categóricas:\",cat_vars)"
   ]
  },
  {
   "cell_type": "markdown",
   "id": "80b8ef13",
   "metadata": {},
   "source": [
    "### Análise Exploratória Univariada, Age"
   ]
  },
  {
   "cell_type": "code",
   "execution_count": 17,
   "id": "d2d3bb68",
   "metadata": {},
   "outputs": [],
   "source": [
    "#Medidadas de posição e dispersão dos dados"
   ]
  },
  {
   "cell_type": "code",
   "execution_count": 18,
   "id": "0d447d20",
   "metadata": {},
   "outputs": [
    {
     "data": {
      "text/html": [
       "<div>\n",
       "<style scoped>\n",
       "    .dataframe tbody tr th:only-of-type {\n",
       "        vertical-align: middle;\n",
       "    }\n",
       "\n",
       "    .dataframe tbody tr th {\n",
       "        vertical-align: top;\n",
       "    }\n",
       "\n",
       "    .dataframe thead th {\n",
       "        text-align: right;\n",
       "    }\n",
       "</style>\n",
       "<table border=\"1\" class=\"dataframe\">\n",
       "  <thead>\n",
       "    <tr style=\"text-align: right;\">\n",
       "      <th></th>\n",
       "      <th>Age</th>\n",
       "      <th>SibSp</th>\n",
       "      <th>Parch</th>\n",
       "      <th>Fare</th>\n",
       "    </tr>\n",
       "  </thead>\n",
       "  <tbody>\n",
       "    <tr>\n",
       "      <th>count</th>\n",
       "      <td>891.00</td>\n",
       "      <td>891.00</td>\n",
       "      <td>891.00</td>\n",
       "      <td>891.00</td>\n",
       "    </tr>\n",
       "    <tr>\n",
       "      <th>mean</th>\n",
       "      <td>222.25</td>\n",
       "      <td>0.52</td>\n",
       "      <td>0.38</td>\n",
       "      <td>32.20</td>\n",
       "    </tr>\n",
       "    <tr>\n",
       "      <th>std</th>\n",
       "      <td>387.17</td>\n",
       "      <td>1.10</td>\n",
       "      <td>0.81</td>\n",
       "      <td>49.69</td>\n",
       "    </tr>\n",
       "    <tr>\n",
       "      <th>min</th>\n",
       "      <td>0.42</td>\n",
       "      <td>0.00</td>\n",
       "      <td>0.00</td>\n",
       "      <td>0.00</td>\n",
       "    </tr>\n",
       "    <tr>\n",
       "      <th>25%</th>\n",
       "      <td>22.00</td>\n",
       "      <td>0.00</td>\n",
       "      <td>0.00</td>\n",
       "      <td>7.91</td>\n",
       "    </tr>\n",
       "    <tr>\n",
       "      <th>50%</th>\n",
       "      <td>32.00</td>\n",
       "      <td>0.00</td>\n",
       "      <td>0.00</td>\n",
       "      <td>14.45</td>\n",
       "    </tr>\n",
       "    <tr>\n",
       "      <th>75%</th>\n",
       "      <td>54.00</td>\n",
       "      <td>1.00</td>\n",
       "      <td>0.00</td>\n",
       "      <td>31.00</td>\n",
       "    </tr>\n",
       "    <tr>\n",
       "      <th>max</th>\n",
       "      <td>999.00</td>\n",
       "      <td>8.00</td>\n",
       "      <td>6.00</td>\n",
       "      <td>512.33</td>\n",
       "    </tr>\n",
       "  </tbody>\n",
       "</table>\n",
       "</div>"
      ],
      "text/plain": [
       "         Age  SibSp  Parch   Fare\n",
       "count 891.00 891.00 891.00 891.00\n",
       "mean  222.25   0.52   0.38  32.20\n",
       "std   387.17   1.10   0.81  49.69\n",
       "min     0.42   0.00   0.00   0.00\n",
       "25%    22.00   0.00   0.00   7.91\n",
       "50%    32.00   0.00   0.00  14.45\n",
       "75%    54.00   1.00   0.00  31.00\n",
       "max   999.00   8.00   6.00 512.33"
      ]
     },
     "execution_count": 18,
     "metadata": {},
     "output_type": "execute_result"
    }
   ],
   "source": [
    "#define casas decimas exibidas\n",
    "pd.options.display.float_format = \"{:.2f}\".format\n",
    "dfbase[num_vars].describe()\n",
    "\n",
    "#Aqui há a influência dos dados missing, por isso as medidas para Age apresentam viés,\n",
    "#contudo foi mantido para análise das demais variáveis, por exemplo Fare que mostra que embora \n",
    "#o preço máximo do bilhete pago seja de 512.33 75% dos passageiros pagou até 31.00."
   ]
  },
  {
   "cell_type": "code",
   "execution_count": 19,
   "id": "c3a477e9",
   "metadata": {},
   "outputs": [
    {
     "data": {
      "text/html": [
       "<div>\n",
       "<style scoped>\n",
       "    .dataframe tbody tr th:only-of-type {\n",
       "        vertical-align: middle;\n",
       "    }\n",
       "\n",
       "    .dataframe tbody tr th {\n",
       "        vertical-align: top;\n",
       "    }\n",
       "\n",
       "    .dataframe thead th {\n",
       "        text-align: right;\n",
       "    }\n",
       "</style>\n",
       "<table border=\"1\" class=\"dataframe\">\n",
       "  <thead>\n",
       "    <tr style=\"text-align: right;\">\n",
       "      <th></th>\n",
       "      <th>Age</th>\n",
       "      <th>SibSp</th>\n",
       "      <th>Parch</th>\n",
       "      <th>Fare</th>\n",
       "    </tr>\n",
       "  </thead>\n",
       "  <tbody>\n",
       "    <tr>\n",
       "      <th>count</th>\n",
       "      <td>714.00</td>\n",
       "      <td>714.00</td>\n",
       "      <td>714.00</td>\n",
       "      <td>714.00</td>\n",
       "    </tr>\n",
       "    <tr>\n",
       "      <th>mean</th>\n",
       "      <td>29.70</td>\n",
       "      <td>0.51</td>\n",
       "      <td>0.43</td>\n",
       "      <td>34.69</td>\n",
       "    </tr>\n",
       "    <tr>\n",
       "      <th>std</th>\n",
       "      <td>14.53</td>\n",
       "      <td>0.93</td>\n",
       "      <td>0.85</td>\n",
       "      <td>52.92</td>\n",
       "    </tr>\n",
       "    <tr>\n",
       "      <th>min</th>\n",
       "      <td>0.42</td>\n",
       "      <td>0.00</td>\n",
       "      <td>0.00</td>\n",
       "      <td>0.00</td>\n",
       "    </tr>\n",
       "    <tr>\n",
       "      <th>25%</th>\n",
       "      <td>20.12</td>\n",
       "      <td>0.00</td>\n",
       "      <td>0.00</td>\n",
       "      <td>8.05</td>\n",
       "    </tr>\n",
       "    <tr>\n",
       "      <th>50%</th>\n",
       "      <td>28.00</td>\n",
       "      <td>0.00</td>\n",
       "      <td>0.00</td>\n",
       "      <td>15.74</td>\n",
       "    </tr>\n",
       "    <tr>\n",
       "      <th>75%</th>\n",
       "      <td>38.00</td>\n",
       "      <td>1.00</td>\n",
       "      <td>1.00</td>\n",
       "      <td>33.38</td>\n",
       "    </tr>\n",
       "    <tr>\n",
       "      <th>max</th>\n",
       "      <td>80.00</td>\n",
       "      <td>5.00</td>\n",
       "      <td>6.00</td>\n",
       "      <td>512.33</td>\n",
       "    </tr>\n",
       "  </tbody>\n",
       "</table>\n",
       "</div>"
      ],
      "text/plain": [
       "         Age  SibSp  Parch   Fare\n",
       "count 714.00 714.00 714.00 714.00\n",
       "mean   29.70   0.51   0.43  34.69\n",
       "std    14.53   0.93   0.85  52.92\n",
       "min     0.42   0.00   0.00   0.00\n",
       "25%    20.12   0.00   0.00   8.05\n",
       "50%    28.00   0.00   0.00  15.74\n",
       "75%    38.00   1.00   1.00  33.38\n",
       "max    80.00   5.00   6.00 512.33"
      ]
     },
     "execution_count": 19,
     "metadata": {},
     "output_type": "execute_result"
    }
   ],
   "source": [
    "#Não considerando missing\n",
    "pd.options.display.float_format = \"{:.2f}\".format\n",
    "dfbase[num_vars].query('Age<999.0').describe()\n",
    "\n",
    "# Removendo os valores missing de Age, pode-se verificar que a idade média dos passageiros\n",
    "# é inferior a 30 anos, olhando para o terceiro quartil, pode-se verificar que 75% dos passageiros tem até 38 anos."
   ]
  },
  {
   "cell_type": "code",
   "execution_count": 20,
   "id": "647259ef",
   "metadata": {},
   "outputs": [],
   "source": [
    "#importando bibliotecas\n",
    "import seaborn as sns\n",
    "import matplotlib.pyplot as plt"
   ]
  },
  {
   "cell_type": "code",
   "execution_count": 21,
   "id": "8157d5e9",
   "metadata": {},
   "outputs": [
    {
     "data": {
      "image/png": "[encoded data removed]",
      "text/plain": [
       "<Figure size 432x288 with 1 Axes>"
      ]
     },
     "metadata": {
      "needs_background": "light"
     },
     "output_type": "display_data"
    }
   ],
   "source": [
    "# plt.figure(figsize=(14,4))\n",
    "plt.title('Distribution of Age')\n",
    "plt.xlabel('Age')\n",
    "plt.ylabel('Qtd')\n",
    "plt.grid(False)\n",
    "# sns.set(font_scale = 1)\n",
    "sns.histplot(data=dfbase.query('Age<999.0'), x='Age',\n",
    "             bins=10, color='green', linewidth=1, edgecolor='black');\n",
    "\n",
    "#Pode-se verificar aqui que o perfil de idade dominante está entre 20 e 30 anos"
   ]
  },
  {
   "cell_type": "code",
   "execution_count": 22,
   "id": "10ba159a",
   "metadata": {},
   "outputs": [
    {
     "data": {
      "image/png": "[encoded data removed]",
      "text/plain": [
       "<Figure size 1008x288 with 1 Axes>"
      ]
     },
     "metadata": {
      "needs_background": "light"
     },
     "output_type": "display_data"
    }
   ],
   "source": [
    "plt.figure(figsize=(14,4))\n",
    "plt.title(\"Boxplot of Age\")\n",
    "plt.grid(False)\n",
    "sns.boxplot(data=dfbase.query('Age<999.0'), x='Age', \n",
    "            color='green', linewidth=1 );\n",
    "\n",
    "#Verifica-se aqui que exitem outliers que apresentam idades maiores ou iguais 66 anos.\n",
    "#Contudo foi verificado que a idade máxima encontrada é de 80 o que é perfeitamente possível,\n",
    "#isso influência no desvio padrão contudo é caracterísitica dos dados"
   ]
  },
  {
   "cell_type": "code",
   "execution_count": 23,
   "id": "72140c82",
   "metadata": {},
   "outputs": [
    {
     "data": {
      "image/png": "[encoded data removed]",
      "text/plain": [
       "<Figure size 1008x288 with 1 Axes>"
      ]
     },
     "metadata": {
      "needs_background": "light"
     },
     "output_type": "display_data"
    }
   ],
   "source": [
    "plt.figure(figsize=(14,4))\n",
    "plt.title(\"Boxplot of Age\")\n",
    "plt.grid(False)\n",
    "sns.boxplot(data=dfbase.query('Age<999.0 and Age < 66'), x='Age', \n",
    "            color='green', linewidth=1 );\n",
    "#Um pequeno teste retirando passageiros com idade igual ou superior a 66 anos"
   ]
  },
  {
   "cell_type": "markdown",
   "id": "6eae6ab5",
   "metadata": {},
   "source": [
    "### Análise exploratória Bivariada em relação a Age"
   ]
  },
  {
   "cell_type": "code",
   "execution_count": 24,
   "id": "6feba768",
   "metadata": {},
   "outputs": [
    {
     "data": {
      "image/png": "[encoded data removed]",
      "text/plain": [
       "<Figure size 720x720 with 20 Axes>"
      ]
     },
     "metadata": {
      "needs_background": "light"
     },
     "output_type": "display_data"
    }
   ],
   "source": [
    "#Quantitativa x Quantitativa\n",
    "sns.pairplot(dfbase[num_vars].query('Age<999.0'),kind='scatter');"
   ]
  },
  {
   "cell_type": "code",
   "execution_count": 25,
   "id": "1c7e9442",
   "metadata": {},
   "outputs": [
    {
     "data": {
      "image/png": "[encoded data removed]",
      "text/plain": [
       "<Figure size 432x288 with 2 Axes>"
      ]
     },
     "metadata": {
      "needs_background": "light"
     },
     "output_type": "display_data"
    }
   ],
   "source": [
    "# plt.subplots(figsize=(15, 10))\n",
    "sns.heatmap(dfbase[num_vars]\n",
    "            .query('Age<999.0').corr(method='pearson')\n",
    "            .round(2), annot=True, linewidths=0.5);"
   ]
  },
  {
   "cell_type": "markdown",
   "id": "8cdbfadf",
   "metadata": {},
   "source": [
    "    0.9 para mais ou para menos indica uma correlação muito forte.\n",
    "    0.7 a 0.9 positivo ou negativo indica uma correlação forte.\n",
    "    0.5 a 0.7 positivo ou negativo indica uma correlação moderada.\n",
    "    0.3 a 0.5 positivo ou negativo indica uma correlação fraca.\n",
    "    0 a 0.3 positivo ou negativo indica uma correlação desprezível."
   ]
  },
  {
   "cell_type": "code",
   "execution_count": 26,
   "id": "1bf15898",
   "metadata": {},
   "outputs": [],
   "source": [
    "#Observando o gráfico de dispersão assim como o mapa de calor\n",
    "#e os valores da matriz de correlação há correlação fraca e inversa\n",
    "#entre as variávei Age(idade) e SibSp(Número de irmãos ou cônjuges a bordo).\n",
    "#Há correlação mais forte entre e direta entre SisbSp e Parch(Número de pais ou filhos a bordo).\n",
    "\n",
    "#Conclusão\n",
    "# Aparentemente pessoas de mais idade viajavam com menor número de parente,\n",
    "#Há muma relação direta entre Número de irmãos ou cônjuges a bordo e\n",
    "#Número de pais ou filhos a bordo o que indica que irmãos ou conjgues a bordo\n",
    "#tendem a estar com os pais ou filhos."
   ]
  },
  {
   "cell_type": "code",
   "execution_count": 27,
   "id": "4d63ae57",
   "metadata": {},
   "outputs": [],
   "source": [
    "#Quantitativa x Qualitativa"
   ]
  },
  {
   "cell_type": "code",
   "execution_count": 28,
   "id": "b26cd47f",
   "metadata": {},
   "outputs": [
    {
     "data": {
      "text/html": [
       "<div>\n",
       "<style scoped>\n",
       "    .dataframe tbody tr th:only-of-type {\n",
       "        vertical-align: middle;\n",
       "    }\n",
       "\n",
       "    .dataframe tbody tr th {\n",
       "        vertical-align: top;\n",
       "    }\n",
       "\n",
       "    .dataframe thead th {\n",
       "        text-align: right;\n",
       "    }\n",
       "</style>\n",
       "<table border=\"1\" class=\"dataframe\">\n",
       "  <thead>\n",
       "    <tr style=\"text-align: right;\">\n",
       "      <th></th>\n",
       "      <th>Survived</th>\n",
       "      <th>Pclass</th>\n",
       "      <th>Name</th>\n",
       "      <th>Sex</th>\n",
       "      <th>Ticket</th>\n",
       "      <th>Cabin</th>\n",
       "      <th>Embarked</th>\n",
       "    </tr>\n",
       "  </thead>\n",
       "  <tbody>\n",
       "    <tr>\n",
       "      <th>count</th>\n",
       "      <td>891</td>\n",
       "      <td>891</td>\n",
       "      <td>891</td>\n",
       "      <td>891</td>\n",
       "      <td>891</td>\n",
       "      <td>891</td>\n",
       "      <td>891</td>\n",
       "    </tr>\n",
       "    <tr>\n",
       "      <th>unique</th>\n",
       "      <td>2</td>\n",
       "      <td>3</td>\n",
       "      <td>891</td>\n",
       "      <td>2</td>\n",
       "      <td>681</td>\n",
       "      <td>148</td>\n",
       "      <td>3</td>\n",
       "    </tr>\n",
       "    <tr>\n",
       "      <th>top</th>\n",
       "      <td>0</td>\n",
       "      <td>3</td>\n",
       "      <td>Braund, Mr. Owen Harris</td>\n",
       "      <td>male</td>\n",
       "      <td>347082</td>\n",
       "      <td>missing</td>\n",
       "      <td>S</td>\n",
       "    </tr>\n",
       "    <tr>\n",
       "      <th>freq</th>\n",
       "      <td>549</td>\n",
       "      <td>491</td>\n",
       "      <td>1</td>\n",
       "      <td>577</td>\n",
       "      <td>7</td>\n",
       "      <td>687</td>\n",
       "      <td>646</td>\n",
       "    </tr>\n",
       "  </tbody>\n",
       "</table>\n",
       "</div>"
      ],
      "text/plain": [
       "        Survived  Pclass                     Name   Sex  Ticket    Cabin  \\\n",
       "count        891     891                      891   891     891      891   \n",
       "unique         2       3                      891     2     681      148   \n",
       "top            0       3  Braund, Mr. Owen Harris  male  347082  missing   \n",
       "freq         549     491                        1   577       7      687   \n",
       "\n",
       "       Embarked  \n",
       "count       891  \n",
       "unique        3  \n",
       "top           S  \n",
       "freq        646  "
      ]
     },
     "execution_count": 28,
     "metadata": {},
     "output_type": "execute_result"
    }
   ],
   "source": [
    "#Medidas de Frequência I\n",
    "#Considerando todos os registros\n",
    "dfbase[cat_vars].describe()"
   ]
  },
  {
   "cell_type": "code",
   "execution_count": 29,
   "id": "6271a630",
   "metadata": {},
   "outputs": [
    {
     "data": {
      "text/html": [
       "<div>\n",
       "<style scoped>\n",
       "    .dataframe tbody tr th:only-of-type {\n",
       "        vertical-align: middle;\n",
       "    }\n",
       "\n",
       "    .dataframe tbody tr th {\n",
       "        vertical-align: top;\n",
       "    }\n",
       "\n",
       "    .dataframe thead th {\n",
       "        text-align: right;\n",
       "    }\n",
       "</style>\n",
       "<table border=\"1\" class=\"dataframe\">\n",
       "  <thead>\n",
       "    <tr style=\"text-align: right;\">\n",
       "      <th></th>\n",
       "      <th>Survived</th>\n",
       "      <th>Pclass</th>\n",
       "      <th>Name</th>\n",
       "      <th>Sex</th>\n",
       "      <th>Ticket</th>\n",
       "      <th>Cabin</th>\n",
       "      <th>Embarked</th>\n",
       "    </tr>\n",
       "  </thead>\n",
       "  <tbody>\n",
       "    <tr>\n",
       "      <th>count</th>\n",
       "      <td>714</td>\n",
       "      <td>714</td>\n",
       "      <td>714</td>\n",
       "      <td>714</td>\n",
       "      <td>714</td>\n",
       "      <td>714</td>\n",
       "      <td>714</td>\n",
       "    </tr>\n",
       "    <tr>\n",
       "      <th>unique</th>\n",
       "      <td>2</td>\n",
       "      <td>3</td>\n",
       "      <td>714</td>\n",
       "      <td>2</td>\n",
       "      <td>542</td>\n",
       "      <td>135</td>\n",
       "      <td>3</td>\n",
       "    </tr>\n",
       "    <tr>\n",
       "      <th>top</th>\n",
       "      <td>0</td>\n",
       "      <td>3</td>\n",
       "      <td>Braund, Mr. Owen Harris</td>\n",
       "      <td>male</td>\n",
       "      <td>347082</td>\n",
       "      <td>missing</td>\n",
       "      <td>S</td>\n",
       "    </tr>\n",
       "    <tr>\n",
       "      <th>freq</th>\n",
       "      <td>424</td>\n",
       "      <td>355</td>\n",
       "      <td>1</td>\n",
       "      <td>453</td>\n",
       "      <td>7</td>\n",
       "      <td>529</td>\n",
       "      <td>556</td>\n",
       "    </tr>\n",
       "  </tbody>\n",
       "</table>\n",
       "</div>"
      ],
      "text/plain": [
       "        Survived  Pclass                     Name   Sex  Ticket    Cabin  \\\n",
       "count        714     714                      714   714     714      714   \n",
       "unique         2       3                      714     2     542      135   \n",
       "top            0       3  Braund, Mr. Owen Harris  male  347082  missing   \n",
       "freq         424     355                        1   453       7      529   \n",
       "\n",
       "       Embarked  \n",
       "count       714  \n",
       "unique        3  \n",
       "top           S  \n",
       "freq        556  "
      ]
     },
     "execution_count": 29,
     "metadata": {},
     "output_type": "execute_result"
    }
   ],
   "source": [
    "#Medidas de Frequência II\n",
    "#Descondiderando missing da variável Age\n",
    "dfbase.query('Age < 999.0')[cat_vars].describe()\n",
    "\n",
    "\n",
    "# Observando as medidas de frequência I e II verifica-se que o número de homens(male) é\n",
    "# significativamente maior que o número de mulheres(female) na tripulação."
   ]
  },
  {
   "cell_type": "code",
   "execution_count": 30,
   "id": "3003015b",
   "metadata": {},
   "outputs": [
    {
     "name": "stdout",
     "output_type": "stream",
     "text": [
      "Survived: Identificação de sobrevivência (1 sobreviveu/ 0 Não Sobreviveu)\n"
     ]
    },
    {
     "data": {
      "image/png": "[encoded data removed]",
      "text/plain": [
       "<Figure size 1080x216 with 1 Axes>"
      ]
     },
     "metadata": {
      "needs_background": "light"
     },
     "output_type": "display_data"
    }
   ],
   "source": [
    "fig, ax = plt.subplots(figsize=(15,3))\n",
    "ax =sns.boxplot(data=dfbase.query('Age<999.0'), \n",
    "                x='Age',\n",
    "                y='Survived', linewidth=1.5, orient=\"h\");\n",
    "ax.grid(False)\n",
    "\n",
    "print(\"Survived: Identificação de sobrevivência (1 sobreviveu/ 0 Não Sobreviveu)\")\n",
    "\n",
    "#Observa-se que sobreviventes e não sobreviventes tèm medianas próximas, isso já era esperado\n",
    "#pelo perfil da tripulação. É interessante verificar a tendência a sobrevivência dos tripulantes com\n",
    "#menor idade assim como a tendência de NÃO sobrevivência aos de maior idade."
   ]
  },
  {
   "cell_type": "code",
   "execution_count": 31,
   "id": "122d58b9",
   "metadata": {},
   "outputs": [
    {
     "name": "stdout",
     "output_type": "stream",
     "text": [
      "Pclass: Classe em que a pessoa esta viajando sendo 1 a melhor classe e 3 a pior classe\n"
     ]
    },
    {
     "data": {
      "image/png": "[encoded data removed]",
      "text/plain": [
       "<Figure size 1440x360 with 1 Axes>"
      ]
     },
     "metadata": {
      "needs_background": "light"
     },
     "output_type": "display_data"
    }
   ],
   "source": [
    "fig, ax = plt.subplots(figsize=(20,5))\n",
    "ax =sns.boxplot(data=dfbase.query('Age<999.0'), \n",
    "                x='Age', \n",
    "                y='Pclass', linewidth=1.5, orient=\"h\");\n",
    "ax.grid(False)\n",
    "\n",
    "print(\"Pclass: Classe em que a pessoa esta viajando sendo 1 a melhor classe e 3 a pior classe\")\n",
    "\n",
    "#Os tripulantes da melhor classe tendem a ser mais velhos, contudo observado as medidas verifica-se\n",
    "#que a pior classe é aquela que possui a maior quantidade de tripulantes"
   ]
  },
  {
   "cell_type": "code",
   "execution_count": 32,
   "id": "04bfeeef",
   "metadata": {},
   "outputs": [
    {
     "name": "stdout",
     "output_type": "stream",
     "text": [
      "Sex: Gênero do Passageiro (Male = Masculino / Female = Feminino)\n"
     ]
    },
    {
     "data": {
      "image/png": "[encoded data removed]",
      "text/plain": [
       "<Figure size 1440x216 with 1 Axes>"
      ]
     },
     "metadata": {
      "needs_background": "light"
     },
     "output_type": "display_data"
    }
   ],
   "source": [
    "fig, ax = plt.subplots(figsize=(20,3))\n",
    "ax =sns.boxplot(data=dfbase.query('Age<999.0'), \n",
    "                x='Age', \n",
    "                y='Sex', linewidth=1.5, orient=\"h\");\n",
    "ax.grid(False)\n",
    "\n",
    "print(\"Sex: Gênero do Passageiro (Male = Masculino / Female = Feminino)\")\n",
    "\n",
    "# Observando as medidas de frequência observamos que as mulheres estão presentes em menor quantidade e que\n",
    "# possuem em geral menor idade do que os homens."
   ]
  },
  {
   "cell_type": "code",
   "execution_count": 33,
   "id": "ee2d9275",
   "metadata": {},
   "outputs": [
    {
     "data": {
      "text/html": [
       "<div>\n",
       "<style scoped>\n",
       "    .dataframe tbody tr th:only-of-type {\n",
       "        vertical-align: middle;\n",
       "    }\n",
       "\n",
       "    .dataframe tbody tr th {\n",
       "        vertical-align: top;\n",
       "    }\n",
       "\n",
       "    .dataframe thead th {\n",
       "        text-align: right;\n",
       "    }\n",
       "</style>\n",
       "<table border=\"1\" class=\"dataframe\">\n",
       "  <thead>\n",
       "    <tr style=\"text-align: right;\">\n",
       "      <th></th>\n",
       "      <th>Survived</th>\n",
       "      <th>Pclass</th>\n",
       "      <th>Name</th>\n",
       "      <th>Sex</th>\n",
       "      <th>Ticket</th>\n",
       "      <th>Cabin</th>\n",
       "      <th>Embarked</th>\n",
       "    </tr>\n",
       "  </thead>\n",
       "  <tbody>\n",
       "    <tr>\n",
       "      <th>count</th>\n",
       "      <td>261</td>\n",
       "      <td>261</td>\n",
       "      <td>261</td>\n",
       "      <td>261</td>\n",
       "      <td>261</td>\n",
       "      <td>261</td>\n",
       "      <td>261</td>\n",
       "    </tr>\n",
       "    <tr>\n",
       "      <th>unique</th>\n",
       "      <td>2</td>\n",
       "      <td>3</td>\n",
       "      <td>261</td>\n",
       "      <td>1</td>\n",
       "      <td>206</td>\n",
       "      <td>71</td>\n",
       "      <td>3</td>\n",
       "    </tr>\n",
       "    <tr>\n",
       "      <th>top</th>\n",
       "      <td>1</td>\n",
       "      <td>3</td>\n",
       "      <td>Cumings, Mrs. John Bradley (Florence Briggs Th...</td>\n",
       "      <td>female</td>\n",
       "      <td>347082</td>\n",
       "      <td>missing</td>\n",
       "      <td>S</td>\n",
       "    </tr>\n",
       "    <tr>\n",
       "      <th>freq</th>\n",
       "      <td>197</td>\n",
       "      <td>102</td>\n",
       "      <td>1</td>\n",
       "      <td>261</td>\n",
       "      <td>5</td>\n",
       "      <td>171</td>\n",
       "      <td>188</td>\n",
       "    </tr>\n",
       "  </tbody>\n",
       "</table>\n",
       "</div>"
      ],
      "text/plain": [
       "        Survived  Pclass                                               Name  \\\n",
       "count        261     261                                                261   \n",
       "unique         2       3                                                261   \n",
       "top            1       3  Cumings, Mrs. John Bradley (Florence Briggs Th...   \n",
       "freq         197     102                                                  1   \n",
       "\n",
       "           Sex  Ticket    Cabin Embarked  \n",
       "count      261     261      261      261  \n",
       "unique       1     206       71        3  \n",
       "top     female  347082  missing        S  \n",
       "freq       261       5      171      188  "
      ]
     },
     "execution_count": 33,
     "metadata": {},
     "output_type": "execute_result"
    }
   ],
   "source": [
    "dfbase.query('Age<999.0 and Sex==\"female\"')[cat_vars].describe()"
   ]
  },
  {
   "cell_type": "code",
   "execution_count": 34,
   "id": "e6e198a5",
   "metadata": {},
   "outputs": [
    {
     "data": {
      "text/html": [
       "<div>\n",
       "<style scoped>\n",
       "    .dataframe tbody tr th:only-of-type {\n",
       "        vertical-align: middle;\n",
       "    }\n",
       "\n",
       "    .dataframe tbody tr th {\n",
       "        vertical-align: top;\n",
       "    }\n",
       "\n",
       "    .dataframe thead th {\n",
       "        text-align: right;\n",
       "    }\n",
       "</style>\n",
       "<table border=\"1\" class=\"dataframe\">\n",
       "  <thead>\n",
       "    <tr style=\"text-align: right;\">\n",
       "      <th></th>\n",
       "      <th>Female</th>\n",
       "      <th>Male</th>\n",
       "    </tr>\n",
       "  </thead>\n",
       "  <tbody>\n",
       "    <tr>\n",
       "      <th>count</th>\n",
       "      <td>261.00</td>\n",
       "      <td>453.00</td>\n",
       "    </tr>\n",
       "    <tr>\n",
       "      <th>mean</th>\n",
       "      <td>27.92</td>\n",
       "      <td>30.73</td>\n",
       "    </tr>\n",
       "    <tr>\n",
       "      <th>std</th>\n",
       "      <td>14.11</td>\n",
       "      <td>14.68</td>\n",
       "    </tr>\n",
       "    <tr>\n",
       "      <th>min</th>\n",
       "      <td>0.75</td>\n",
       "      <td>0.42</td>\n",
       "    </tr>\n",
       "    <tr>\n",
       "      <th>25%</th>\n",
       "      <td>18.00</td>\n",
       "      <td>21.00</td>\n",
       "    </tr>\n",
       "    <tr>\n",
       "      <th>50%</th>\n",
       "      <td>27.00</td>\n",
       "      <td>29.00</td>\n",
       "    </tr>\n",
       "    <tr>\n",
       "      <th>75%</th>\n",
       "      <td>37.00</td>\n",
       "      <td>39.00</td>\n",
       "    </tr>\n",
       "    <tr>\n",
       "      <th>max</th>\n",
       "      <td>63.00</td>\n",
       "      <td>80.00</td>\n",
       "    </tr>\n",
       "  </tbody>\n",
       "</table>\n",
       "</div>"
      ],
      "text/plain": [
       "       Female   Male\n",
       "count  261.00 453.00\n",
       "mean    27.92  30.73\n",
       "std     14.11  14.68\n",
       "min      0.75   0.42\n",
       "25%     18.00  21.00\n",
       "50%     27.00  29.00\n",
       "75%     37.00  39.00\n",
       "max     63.00  80.00"
      ]
     },
     "execution_count": 34,
     "metadata": {},
     "output_type": "execute_result"
    }
   ],
   "source": [
    "pd.concat([dfbase.query('Age<999.0 and Sex==\"female\"')[\"Age\"].describe(),\n",
    "          dfbase.query('Age<999.0 and Sex==\"male\"')[\"Age\"].describe()],\n",
    "          keys=[\"Female\",\"Male\"], axis=1)"
   ]
  },
  {
   "cell_type": "code",
   "execution_count": 35,
   "id": "8324ea6e",
   "metadata": {},
   "outputs": [
    {
     "data": {
      "image/png": "[encoded data removed]",
      "text/plain": [
       "<Figure size 1440x360 with 1 Axes>"
      ]
     },
     "metadata": {
      "needs_background": "light"
     },
     "output_type": "display_data"
    }
   ],
   "source": [
    "fig, ax = plt.subplots(figsize=(20,5))\n",
    "ax =sns.boxplot(data=dfbase.query('Age<999.0'), \n",
    "                x='Age', \n",
    "                y='Embarked', linewidth=1.5, orient=\"h\");\n",
    "ax.grid(False)\n",
    "\n",
    "#Observando as tabelas de frequencia verifica-se que mais de 50 dos passageiros embarcaram no porto \"S\".\n",
    "# O gráfico abaixo mostra que em geral passageiros de menor idade embarcam no porto \"Q\" e os de maior idade\n",
    "# nos portos \"C\" e \"S\"."
   ]
  },
  {
   "cell_type": "markdown",
   "id": "10621ad4",
   "metadata": {},
   "source": [
    "#### Olhando com mais atenção para a variável Fare"
   ]
  },
  {
   "cell_type": "code",
   "execution_count": 36,
   "id": "d7a2a2be",
   "metadata": {},
   "outputs": [
    {
     "data": {
      "image/png": "[encoded data removed]",
      "text/plain": [
       "<Figure size 1008x576 with 1 Axes>"
      ]
     },
     "metadata": {
      "needs_background": "light"
     },
     "output_type": "display_data"
    }
   ],
   "source": [
    "# Categorizando a variável Age em um novo dataset \n",
    "dfteste=dfbase.query('Age<999.0').copy()\n",
    "dfteste['Age_Cat']=pd.cut(dfteste['Age'],8, precision=0)\n",
    "\n",
    "import seaborn as sns\n",
    "plt.figure(figsize=(14,8))\n",
    "plt.grid(True)\n",
    "sns.barplot(x=\"Age_Cat\", y=\"Fare\", data=dfteste, linewidth=1, edgecolor='black');\n",
    "\n",
    "# Pode-se verificar que passageiros que possuem idade entre 30 e 70 anos têm valores médios\n",
    "# de ticket(Fare) mais elevados. "
   ]
  },
  {
   "cell_type": "code",
   "execution_count": 37,
   "id": "4a5de3f0",
   "metadata": {},
   "outputs": [
    {
     "data": {
      "image/png": "[encoded data removed]",
      "text/plain": [
       "<Figure size 1152x576 with 1 Axes>"
      ]
     },
     "metadata": {
      "needs_background": "light"
     },
     "output_type": "display_data"
    }
   ],
   "source": [
    "(\n",
    "    dfbase.query('Age< 999.0')\n",
    "    .groupby(['Age'])\n",
    "    .agg(meanFare = ('Fare', 'mean'))\n",
    "    .reset_index()\n",
    "    .plot(x=\"Age\", y=\"meanFare\", figsize=(16,8))\n",
    ");\n",
    "\n",
    "#Outra visaualização possível"
   ]
  },
  {
   "cell_type": "code",
   "execution_count": 38,
   "id": "d197934b",
   "metadata": {},
   "outputs": [
    {
     "data": {
      "text/html": [
       "<div>\n",
       "<style scoped>\n",
       "    .dataframe tbody tr th:only-of-type {\n",
       "        vertical-align: middle;\n",
       "    }\n",
       "\n",
       "    .dataframe tbody tr th {\n",
       "        vertical-align: top;\n",
       "    }\n",
       "\n",
       "    .dataframe thead th {\n",
       "        text-align: right;\n",
       "    }\n",
       "</style>\n",
       "<table border=\"1\" class=\"dataframe\">\n",
       "  <thead>\n",
       "    <tr style=\"text-align: right;\">\n",
       "      <th></th>\n",
       "      <th>PassengerId</th>\n",
       "      <th>Age</th>\n",
       "      <th>SibSp</th>\n",
       "      <th>Parch</th>\n",
       "      <th>Fare</th>\n",
       "    </tr>\n",
       "  </thead>\n",
       "  <tbody>\n",
       "    <tr>\n",
       "      <th>count</th>\n",
       "      <td>17.00</td>\n",
       "      <td>17.00</td>\n",
       "      <td>17.00</td>\n",
       "      <td>17.00</td>\n",
       "      <td>17.00</td>\n",
       "    </tr>\n",
       "    <tr>\n",
       "      <th>mean</th>\n",
       "      <td>430.88</td>\n",
       "      <td>63.88</td>\n",
       "      <td>0.18</td>\n",
       "      <td>0.35</td>\n",
       "      <td>45.91</td>\n",
       "    </tr>\n",
       "    <tr>\n",
       "      <th>std</th>\n",
       "      <td>232.19</td>\n",
       "      <td>2.78</td>\n",
       "      <td>0.39</td>\n",
       "      <td>1.00</td>\n",
       "      <td>61.33</td>\n",
       "    </tr>\n",
       "    <tr>\n",
       "      <th>min</th>\n",
       "      <td>34.00</td>\n",
       "      <td>61.00</td>\n",
       "      <td>0.00</td>\n",
       "      <td>0.00</td>\n",
       "      <td>6.24</td>\n",
       "    </tr>\n",
       "    <tr>\n",
       "      <th>25%</th>\n",
       "      <td>276.00</td>\n",
       "      <td>62.00</td>\n",
       "      <td>0.00</td>\n",
       "      <td>0.00</td>\n",
       "      <td>10.50</td>\n",
       "    </tr>\n",
       "    <tr>\n",
       "      <th>50%</th>\n",
       "      <td>457.00</td>\n",
       "      <td>63.00</td>\n",
       "      <td>0.00</td>\n",
       "      <td>0.00</td>\n",
       "      <td>26.55</td>\n",
       "    </tr>\n",
       "    <tr>\n",
       "      <th>75%</th>\n",
       "      <td>571.00</td>\n",
       "      <td>65.00</td>\n",
       "      <td>0.00</td>\n",
       "      <td>0.00</td>\n",
       "      <td>61.98</td>\n",
       "    </tr>\n",
       "    <tr>\n",
       "      <th>max</th>\n",
       "      <td>830.00</td>\n",
       "      <td>70.00</td>\n",
       "      <td>1.00</td>\n",
       "      <td>4.00</td>\n",
       "      <td>263.00</td>\n",
       "    </tr>\n",
       "  </tbody>\n",
       "</table>\n",
       "</div>"
      ],
      "text/plain": [
       "       PassengerId   Age  SibSp  Parch   Fare\n",
       "count        17.00 17.00  17.00  17.00  17.00\n",
       "mean        430.88 63.88   0.18   0.35  45.91\n",
       "std         232.19  2.78   0.39   1.00  61.33\n",
       "min          34.00 61.00   0.00   0.00   6.24\n",
       "25%         276.00 62.00   0.00   0.00  10.50\n",
       "50%         457.00 63.00   0.00   0.00  26.55\n",
       "75%         571.00 65.00   0.00   0.00  61.98\n",
       "max         830.00 70.00   1.00   4.00 263.00"
      ]
     },
     "execution_count": 38,
     "metadata": {},
     "output_type": "execute_result"
    }
   ],
   "source": [
    "dfteste.query('Age >60.0 and Age <=70.0').describe()"
   ]
  },
  {
   "cell_type": "markdown",
   "id": "2f1fb4aa",
   "metadata": {},
   "source": [
    "#### Olhando com mais atenção para a variável Sexo(Sex)"
   ]
  },
  {
   "cell_type": "code",
   "execution_count": 39,
   "id": "7d194dbe",
   "metadata": {},
   "outputs": [
    {
     "data": {
      "image/png": "[encoded data removed]",
      "text/plain": [
       "<Figure size 1440x360 with 3 Axes>"
      ]
     },
     "metadata": {
      "needs_background": "light"
     },
     "output_type": "display_data"
    },
    {
     "name": "stdout",
     "output_type": "stream",
     "text": [
      "Survived: Identificação de sobrevivência (1 sobreviveu/ 0 Não Sobreviveu)\n"
     ]
    }
   ],
   "source": [
    "import matplotlib.pyplot as plt\n",
    "\n",
    "fig,(ax2,ax1,ax3)=plt.subplots(1,3, figsize=(20,5))\n",
    "colores = ('cornflowerblue','indianred' )\n",
    "labels=['Survived','Not Survived']\n",
    "\n",
    "#Definindo pie Male\n",
    "sizes2=[dfbase.query('Sex==\"male\" and Survived==1').shape[0],\n",
    "       dfbase.query('Sex==\"male\" and Survived==0').shape[0]]\n",
    "\n",
    "ax2.axis('equal')\n",
    "ax2.set(title=\"Survived Male\")\n",
    "ax2.pie(sizes2,labels=labels, autopct='%1.1f%%', shadow=True, startangle=90,\n",
    "        colors = colores, wedgeprops = {\"edgecolor\" : \"black\", 'linewidth': 2, 'antialiased': True},\n",
    "        explode = ( 0.1, 0))\n",
    "\n",
    "\n",
    "\n",
    "#Definindo pie Female\n",
    "sizes1=[dfbase.query('Sex==\"female\" and Survived==1').shape[0],\n",
    "       dfbase.query('Sex==\"female\" and Survived==0').shape[0]]\n",
    "\n",
    "ax1.axis('equal')\n",
    "ax1.set(title=\"Survived Female\")\n",
    "ax1.pie(sizes1, labels=labels, autopct='%1.1f%%', shadow=True, startangle=90,\n",
    "        colors = colores, wedgeprops = {\"edgecolor\" : \"black\", 'linewidth': 2, 'antialiased': True},\n",
    "        explode = ( 0.1, 0))\n",
    "\n",
    "\n",
    "#Distribuição da Variável Sex com identificação de sobreviventes\n",
    "ax3.set(title='Distribution of Sex', xlabel='Sex', ylabel='Qtd')\n",
    "ax3.grid(False)\n",
    "sns.histplot(ax=ax3, data=dfbase, x='Sex',\n",
    "             bins=10, linewidth=1, \n",
    "             edgecolor='black', hue='Survived', multiple=\"dodge\",palette=\"Set1\", shrink=.8);\n",
    "\n",
    "plt.show();\n",
    "\n",
    "print(\"Survived: Identificação de sobrevivência (1 sobreviveu/ 0 Não Sobreviveu)\")\n",
    "\n",
    "#Observando os gráficos abaixo verifica-se que embora a quantidade total de homens(male)\n",
    "# seja superior a quantidade total de mulheres(female), a quantidade de mulheres sobreviventes\n",
    "# é superior em relação a quantidade de homens sobreviventes. As proporções podem ser verificadas\n",
    "# no gráfico de pizza."
   ]
  },
  {
   "cell_type": "markdown",
   "id": "e3596d9d",
   "metadata": {},
   "source": [
    "#### Olhando um pouco mais para a variável Survived"
   ]
  },
  {
   "cell_type": "code",
   "execution_count": 40,
   "id": "69713f47",
   "metadata": {},
   "outputs": [
    {
     "data": {
      "image/png": "[encoded data removed]",
      "text/plain": [
       "<Figure size 1440x360 with 3 Axes>"
      ]
     },
     "metadata": {},
     "output_type": "display_data"
    }
   ],
   "source": [
    "import matplotlib.pyplot as plt\n",
    "\n",
    "fig,(ax2,ax1,ax3)=plt.subplots(1,3, figsize=(20,5))\n",
    "colores = ('cornflowerblue','indianred' )\n",
    "labels=['Survived','Not Survived']\n",
    "\n",
    "#Definindo pie Pclass1\n",
    "sizes2=[dfbase.query('Pclass==1 and Survived==1').shape[0],\n",
    "       dfbase.query('Pclass==1 and Survived==0').shape[0]]\n",
    "\n",
    "ax2.axis('equal')\n",
    "ax2.set(title=\"Survived PClass1\")\n",
    "ax2.pie(sizes2,labels=labels, autopct='%1.1f%%', shadow=True, startangle=90,\n",
    "        colors = colores, wedgeprops = {\"edgecolor\" : \"black\", 'linewidth': 2, 'antialiased': True},\n",
    "        explode = ( 0.1, 0))\n",
    "\n",
    "\n",
    "\n",
    "#Definindo pie Pclass2\n",
    "sizes1=[dfbase.query('Pclass==2 and Survived==1').shape[0],\n",
    "       dfbase.query('Pclass==2 and Survived==0').shape[0]]\n",
    "\n",
    "ax1.axis('equal')\n",
    "ax1.set(title=\"Survived Pclass2\")\n",
    "ax1.pie(sizes1, labels=labels, autopct='%1.1f%%', shadow=True, startangle=90,\n",
    "        colors = colores, wedgeprops = {\"edgecolor\" : \"black\", 'linewidth': 2, 'antialiased': True},\n",
    "        explode = ( 0.1, 0))\n",
    "\n",
    "\n",
    "#Definindo pie Pclass3\n",
    "sizes1=[dfbase.query('Pclass==3 and Survived==1').shape[0],\n",
    "       dfbase.query('Pclass==3 and Survived==0').shape[0]]\n",
    "\n",
    "ax3.axis('equal')\n",
    "ax3.set(title=\"Survived Pclass3\")\n",
    "ax3.pie(sizes1, labels=labels, autopct='%1.1f%%', shadow=True, startangle=90,\n",
    "        colors = colores, wedgeprops = {\"edgecolor\" : \"black\", 'linewidth': 2, 'antialiased': True},\n",
    "        explode = ( 0.1, 0))\n",
    "\n",
    "plt.show();"
   ]
  },
  {
   "cell_type": "code",
   "execution_count": 41,
   "id": "78faf1af",
   "metadata": {},
   "outputs": [
    {
     "data": {
      "image/png": "[encoded data removed]",
      "text/plain": [
       "<Figure size 432x288 with 1 Axes>"
      ]
     },
     "metadata": {
      "needs_background": "light"
     },
     "output_type": "display_data"
    }
   ],
   "source": [
    "# plt.figure(figsize=(14,4))\n",
    "plt.title('Distribution of Survived for PClass')\n",
    "plt.xlabel('PClass')\n",
    "plt.ylabel('Qtd')\n",
    "plt.grid(False)\n",
    "# sns.set(font_scale = 1)\n",
    "locs, labels = plt.xticks()\n",
    "plt.xticks([3, 1, 2], ['PClass 3', 'PClass 1', 'PClass 2'])\n",
    "\n",
    "sns.histplot(data=dfbase, x='Pclass',\n",
    "             bins=6, color='green', linewidth=1, \n",
    "             edgecolor='black', hue='Survived', multiple=\"dodge\",palette=\"Set1\", shrink=.8, discrete=True)\n",
    "\n",
    "plt.show();\n",
    "\n",
    "\n",
    "#Pode-se verificar que a proporção de sobreviventes e relação a sua respectiva \n",
    "#classe aumenta com a melhoria da classe."
   ]
  },
  {
   "cell_type": "markdown",
   "id": "d0461b21",
   "metadata": {},
   "source": [
    "### Respostas teste:"
   ]
  },
  {
   "cell_type": "markdown",
   "id": "48919af9",
   "metadata": {},
   "source": [
    "#### 1 - Analise as distribuições dos dados por idade. Comente as suas impressões"
   ]
  },
  {
   "cell_type": "markdown",
   "id": "6e567b35",
   "metadata": {},
   "source": [
    "A variável Age apresenta cerca de 20% dos dados faltantes, optei por não inferir valores e trabalhar somente com os dados conhecidos.\n",
    "\n",
    "A idade média dos passageiros é inferior a 30 anos, sendo que 75% dos passageiros tem até 38 anos, sendo a faixa de idade dominante entre 20 e 30 anos.  "
   ]
  },
  {
   "cell_type": "markdown",
   "id": "bbd7e3c1",
   "metadata": {},
   "source": [
    "#### 2 - Faca um gráfico de calor das correlações e comente os resultados encontrados"
   ]
  },
  {
   "cell_type": "markdown",
   "id": "cea88d51",
   "metadata": {},
   "source": [
    "Observando o gráfico de calor das correlações verifica-se que  há correlação fraca e inversa(-0.31) entre as variáveis Age(idade) e SibSp(Número de irmãos ou cônjuges a bordo).\n",
    "\n",
    "Vide: mapa de calor acima\n",
    "\n",
    "Verificou também correlação fraca e direta(0.38) entre SisbSp e Parch(Número de pais ou filhos a bordo).\n",
    "\n",
    " Aparentemente pessoas de mais idade viajavam com menor número de parentes.\n",
    "\n",
    "Pessoas irmãos ou conjgues a bordo tendem a estar com os pais ou filhos."
   ]
  },
  {
   "cell_type": "markdown",
   "id": "b4e13927",
   "metadata": {},
   "source": [
    "#### 3 - Analise a correlação do preço do bilhete e idade do passageiro"
   ]
  },
  {
   "cell_type": "markdown",
   "id": "46c0e808",
   "metadata": {},
   "source": [
    "Observando o mapa de calor temos correlação desprezível entre o preço do bilhete e a idade, verifica-se que não há relação de linearidade tambem pelo grárifo de dispersão \"Quantitativa x Quantitativa\"\n",
    "\n",
    "O gráfico de barras em \"Olhando com mais atenção para a variável Fare\" mostra que passageiros que possuem idade entre 30 e 70 anos têm valores médios de ticket(Fare) mais elevados."
   ]
  },
  {
   "cell_type": "markdown",
   "id": "f28a0b37",
   "metadata": {},
   "source": [
    "#### 4 - Plot a distribuição por sexo com identificação de quem sobreviveu ou não e comente o gráfico"
   ]
  },
  {
   "cell_type": "markdown",
   "id": "a4b1955d",
   "metadata": {},
   "source": [
    "Vide: Olhando com mais atenção para a variável Sexo(Sex)\n",
    "\n",
    "Observando os gráficos abaixo verifica-se que embora a quantidade total de homens(male) seja superior a quantidade total de mulheres(female), a quantidade de mulheres sobreviventes é superior em relação a quantidade de homens sobreviventes. As proporções podem ser verificadas nos gráficos de pizza."
   ]
  },
  {
   "cell_type": "markdown",
   "id": "daaf9ea0",
   "metadata": {},
   "source": [
    "#### 5 – Faça um resumo sobre o que você conseguiu analisar do dataset."
   ]
  },
  {
   "cell_type": "markdown",
   "id": "6f64aa88",
   "metadata": {},
   "source": [
    "Em relação a tripulação total 72% dos passageiros embarcaram no porto S, sendo este o porto de maior embarque.\n",
    "\n",
    "O preço máximo do bilhete paga seja de 512.33, contudo 75% dos passageiros pagou até 31.00, poucos passageiro sobreviventes\n",
    "com cerca de 30 anos pagaram os valos mais elevados.\n",
    "\n",
    "Por ultimo verifiquei que a proporção de sobreviventes e relação a sua respectiva classe aumenta com a melhoria da classe.\n"
   ]
  },
  {
   "cell_type": "code",
   "execution_count": 42,
   "id": "1a794459",
   "metadata": {},
   "outputs": [],
   "source": [
    "#Salva o arquivo em formato csv\n",
    "dfbase.to_csv(\"../datasets/gerados/Titanic_clean.csv\")"
   ]
  },
  {
   "cell_type": "code",
   "execution_count": null,
   "id": "ff0be42d",
   "metadata": {},
   "outputs": [],
   "source": []
  }
 ],
 "metadata": {
  "kernelspec": {
   "display_name": "Python 3 (ipykernel)",
   "language": "python",
   "name": "python3"
  },
  "language_info": {
   "codemirror_mode": {
    "name": "ipython",
    "version": 3
   },
   "file_extension": ".py",
   "mimetype": "text/x-python",
   "name": "python",
   "nbconvert_exporter": "python",
   "pygments_lexer": "ipython3",
   "version": "3.9.12"
  },
  "toc": {
   "base_numbering": 1,
   "nav_menu": {},
   "number_sections": true,
   "sideBar": true,
   "skip_h1_title": false,
   "title_cell": "Table of Contents",
   "title_sidebar": "Contents",
   "toc_cell": false,
   "toc_position": {},
   "toc_section_display": true,
   "toc_window_display": false
  },
  "varInspector": {
   "cols": {
    "lenName": 16,
    "lenType": 16,
    "lenVar": 40
   },
   "kernels_config": {
    "python": {
     "delete_cmd_postfix": "",
     "delete_cmd_prefix": "del ",
     "library": "var_list.py",
     "varRefreshCmd": "print(var_dic_list())"
    },
    "r": {
     "delete_cmd_postfix": ") ",
     "delete_cmd_prefix": "rm(",
     "library": "var_list.r",
     "varRefreshCmd": "cat(var_dic_list()) "
    }
   },
   "types_to_exclude": [
    "module",
    "function",
    "builtin_function_or_method",
    "instance",
    "_Feature"
   ],
   "window_display": false
  }
 },
 "nbformat": 4,
 "nbformat_minor": 5
}
